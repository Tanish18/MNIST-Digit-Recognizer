{
 "cells": [
  {
   "cell_type": "markdown",
   "metadata": {},
   "source": [
    "## MNIST Digit Classification"
   ]
  },
  {
   "cell_type": "markdown",
   "metadata": {},
   "source": [
    "### Packages Included"
   ]
  },
  {
   "cell_type": "code",
   "execution_count": 4,
   "metadata": {},
   "outputs": [],
   "source": [
    "import torch\n",
    "import torch.cuda as cuda\n",
    "import torch.nn as nn\n",
    "import matplotlib.pyplot as plt\n",
    "\n",
    "from torch.autograd import Variable\n",
    "\n",
    "# Torchvision module contains various utilities, classes, models and datasets \n",
    "# used towards computer vision usecases\n",
    "from torchvision import datasets\n",
    "from torchvision import transforms\n",
    "\n",
    "# Functional module contains helper functions\n",
    "import torch.nn.functional as F"
   ]
  },
  {
   "cell_type": "markdown",
   "metadata": {},
   "source": [
    "### Downloading Dataset"
   ]
  },
  {
   "cell_type": "code",
   "execution_count": 5,
   "metadata": {},
   "outputs": [],
   "source": [
    "# Mean and standard deviation of all the pixels in the MNIST dataset\n",
    "mean_gray = 0.1307\n",
    "stddev_gray = 0.3081\n",
    "\n",
    "transform=transforms.Compose([transforms.ToTensor(),\n",
    "                              transforms.Normalize((mean_gray,), (stddev_gray,))])\n",
    "\n",
    "mnist_train = datasets.MNIST('./data', train=True, download=True, transform=transform)\n",
    "mnist_valid = datasets.MNIST('./data', train=False, download=True, transform=transform)"
   ]
  },
  {
   "cell_type": "code",
   "execution_count": 6,
   "metadata": {},
   "outputs": [
    {
     "data": {
      "text/plain": [
       "60000"
      ]
     },
     "execution_count": 6,
     "metadata": {},
     "output_type": "execute_result"
    }
   ],
   "source": [
    "len(mnist_train)"
   ]
  },
  {
   "cell_type": "code",
   "execution_count": 7,
   "metadata": {},
   "outputs": [
    {
     "data": {
      "text/plain": [
       "10000"
      ]
     },
     "execution_count": 7,
     "metadata": {},
     "output_type": "execute_result"
    }
   ],
   "source": [
    "len(mnist_valid)"
   ]
  },
  {
   "cell_type": "code",
   "execution_count": 8,
   "metadata": {},
   "outputs": [],
   "source": [
    "img = mnist_train[15][0].numpy() * stddev_gray + mean_gray"
   ]
  },
  {
   "cell_type": "code",
   "execution_count": 9,
   "metadata": {},
   "outputs": [
    {
     "data": {
      "text/plain": [
       "<matplotlib.image.AxesImage at 0x218390af550>"
      ]
     },
     "execution_count": 9,
     "metadata": {},
     "output_type": "execute_result"
    },
    {
     "data": {
      "image/png": "[encoded data removed]",
      "text/plain": [
       "<Figure size 432x288 with 1 Axes>"
      ]
     },
     "metadata": {},
     "output_type": "display_data"
    }
   ],
   "source": [
    "plt.imshow(img.reshape(28, 28), cmap='gray')\n",
    "# Note that each image is 28 x 28 pixel"
   ]
  },
  {
   "cell_type": "code",
   "execution_count": 11,
   "metadata": {},
   "outputs": [],
   "source": [
    "batch_size = 1024 # Reduce this if you get out-of-memory error"
   ]
  },
  {
   "cell_type": "markdown",
   "metadata": {},
   "source": [
    "### Creating Data Loader"
   ]
  },
  {
   "cell_type": "code",
   "execution_count": 13,
   "metadata": {},
   "outputs": [],
   "source": [
    "mnist_train_loader = torch.utils.data.DataLoader(mnist_train, batch_size=batch_size, shuffle=True, num_workers=2)\n",
    "mnist_valid_loader = torch.utils.data.DataLoader(mnist_valid, batch_size=batch_size, shuffle=True, num_workers=2)"
   ]
  },
  {
   "cell_type": "markdown",
   "metadata": {},
   "source": [
    "### Neural Net Defined"
   ]
  },
  {
   "cell_type": "code",
   "execution_count": 14,
   "metadata": {},
   "outputs": [],
   "source": [
    "class MNISTNet(nn.Module):\n",
    "    \n",
    "    def __init__(self):\n",
    "        super().__init__()\n",
    "               \n",
    "        # NOTE: All Conv2d layers have a default padding of 0 and stride of 1,\n",
    "        # which is what we are using.\n",
    "        \n",
    "        # Convolution Layer 1                             # 28 x 28 x 1  (input)\n",
    "        self.conv1 = nn.Conv2d(1, 20, kernel_size=5)      # 24 x 24 x 20  (after 1st convolution)\n",
    "        self.relu1 = nn.ReLU()                            # Same as above\n",
    "        \n",
    "        # Convolution Layer 2\n",
    "        self.conv2 = nn.Conv2d(20, 30, kernel_size=5)     # 20 x 20 x 30  (after 2nd convolution)\n",
    "        self.conv2_drop = nn.Dropout2d(p=0.5)             # Same as above\n",
    "        self.maxpool2 = nn.MaxPool2d(2)                   # 10 x 10 x 30  (after pooling)\n",
    "        self.relu2 = nn.ReLU()                            # Same as above \n",
    "        \n",
    "        # Fully connected layers\n",
    "        self.fc1 = nn.Linear(3000, 500)\n",
    "        self.fc2 = nn.Linear(500, 10)\n",
    "\n",
    "    def forward(self, x):\n",
    "        \n",
    "        # Convolution Layer 1                    \n",
    "        x = self.conv1(x)                        \n",
    "        x = self.relu1(x)                        \n",
    "        \n",
    "        # Convolution Layer 2\n",
    "        x = self.conv2(x)               \n",
    "        x = self.conv2_drop(x)\n",
    "        x = self.maxpool2(x)\n",
    "        x = self.relu2(x)\n",
    "        \n",
    "        # Switch from activation maps to vectors\n",
    "        x = x.view(-1, 3000)\n",
    "        \n",
    "        # Fully connected layer 1\n",
    "        x = self.fc1(x)\n",
    "        x = F.relu(x)\n",
    "        x = F.dropout(x, training=True)\n",
    "        \n",
    "        # Fully connected layer 2\n",
    "        x = self.fc2(x)\n",
    "        \n",
    "        return x"
   ]
  },
  {
   "cell_type": "code",
   "execution_count": 15,
   "metadata": {},
   "outputs": [],
   "source": [
    "# The model\n",
    "net = MNISTNet()\n",
    "\n",
    "net = net.cuda()\n",
    "\n",
    "# Our loss function\n",
    "criterion = nn.CrossEntropyLoss()\n",
    "\n",
    "# Our optimizer\n",
    "learning_rate = 0.01\n",
    "optimizer = torch.optim.SGD(net.parameters(), lr=learning_rate, momentum=0.9)"
   ]
  },
  {
   "cell_type": "markdown",
   "metadata": {},
   "source": [
    "### Training & Testing"
   ]
  },
  {
   "cell_type": "code",
   "execution_count": 16,
   "metadata": {},
   "outputs": [
    {
     "name": "stderr",
     "output_type": "stream",
     "text": [
      "c:\\users\\rahul aggarwal\\appdata\\local\\programs\\python\\python36\\lib\\site-packages\\ipykernel_launcher.py:34: UserWarning: invalid index of a 0-dim tensor. This will be an error in PyTorch 0.5. Use tensor.item() to convert a 0-dim tensor to a Python number\n",
      "c:\\users\\rahul aggarwal\\appdata\\local\\programs\\python\\python36\\lib\\site-packages\\ipykernel_launcher.py:71: UserWarning: invalid index of a 0-dim tensor. This will be an error in PyTorch 0.5. Use tensor.item() to convert a 0-dim tensor to a Python number\n"
     ]
    },
    {
     "name": "stdout",
     "output_type": "stream",
     "text": [
      "Epoch 1/100, Tr Loss: 1.1370, Tr Acc: 63.0000, Val Loss: 0.3069, Val Acc: 90.0000\n",
      "Epoch 2/100, Tr Loss: 0.3115, Tr Acc: 90.0000, Val Loss: 0.1853, Val Acc: 94.0000\n",
      "Epoch 3/100, Tr Loss: 0.2205, Tr Acc: 93.0000, Val Loss: 0.1385, Val Acc: 95.0000\n",
      "Epoch 4/100, Tr Loss: 0.1752, Tr Acc: 94.0000, Val Loss: 0.1109, Val Acc: 96.0000\n",
      "Epoch 5/100, Tr Loss: 0.1482, Tr Acc: 95.0000, Val Loss: 0.0955, Val Acc: 97.0000\n",
      "Epoch 6/100, Tr Loss: 0.1311, Tr Acc: 96.0000, Val Loss: 0.0839, Val Acc: 97.0000\n",
      "Epoch 7/100, Tr Loss: 0.1170, Tr Acc: 96.0000, Val Loss: 0.0767, Val Acc: 97.0000\n",
      "Epoch 8/100, Tr Loss: 0.1052, Tr Acc: 96.0000, Val Loss: 0.0646, Val Acc: 97.0000\n",
      "Epoch 9/100, Tr Loss: 0.0973, Tr Acc: 97.0000, Val Loss: 0.0633, Val Acc: 97.0000\n",
      "Epoch 10/100, Tr Loss: 0.0924, Tr Acc: 97.0000, Val Loss: 0.0598, Val Acc: 98.0000\n",
      "Epoch 11/100, Tr Loss: 0.0859, Tr Acc: 97.0000, Val Loss: 0.0553, Val Acc: 98.0000\n",
      "Epoch 12/100, Tr Loss: 0.0813, Tr Acc: 97.0000, Val Loss: 0.0555, Val Acc: 98.0000\n",
      "Epoch 13/100, Tr Loss: 0.0772, Tr Acc: 97.0000, Val Loss: 0.0506, Val Acc: 98.0000\n",
      "Epoch 14/100, Tr Loss: 0.0726, Tr Acc: 97.0000, Val Loss: 0.0465, Val Acc: 98.0000\n",
      "Epoch 15/100, Tr Loss: 0.0709, Tr Acc: 97.0000, Val Loss: 0.0468, Val Acc: 98.0000\n",
      "Epoch 16/100, Tr Loss: 0.0699, Tr Acc: 97.0000, Val Loss: 0.0472, Val Acc: 98.0000\n",
      "Epoch 17/100, Tr Loss: 0.0652, Tr Acc: 98.0000, Val Loss: 0.0482, Val Acc: 98.0000\n",
      "Epoch 18/100, Tr Loss: 0.0630, Tr Acc: 98.0000, Val Loss: 0.0453, Val Acc: 98.0000\n",
      "Epoch 19/100, Tr Loss: 0.0576, Tr Acc: 98.0000, Val Loss: 0.0407, Val Acc: 98.0000\n",
      "Epoch 20/100, Tr Loss: 0.0593, Tr Acc: 98.0000, Val Loss: 0.0400, Val Acc: 98.0000\n",
      "Epoch 21/100, Tr Loss: 0.0562, Tr Acc: 98.0000, Val Loss: 0.0445, Val Acc: 98.0000\n",
      "Epoch 22/100, Tr Loss: 0.0534, Tr Acc: 98.0000, Val Loss: 0.0394, Val Acc: 98.0000\n",
      "Epoch 23/100, Tr Loss: 0.0531, Tr Acc: 98.0000, Val Loss: 0.0378, Val Acc: 98.0000\n",
      "Epoch 24/100, Tr Loss: 0.0521, Tr Acc: 98.0000, Val Loss: 0.0383, Val Acc: 98.0000\n",
      "Epoch 25/100, Tr Loss: 0.0507, Tr Acc: 98.0000, Val Loss: 0.0384, Val Acc: 98.0000\n",
      "Epoch 26/100, Tr Loss: 0.0490, Tr Acc: 98.0000, Val Loss: 0.0354, Val Acc: 98.0000\n",
      "Epoch 27/100, Tr Loss: 0.0474, Tr Acc: 98.0000, Val Loss: 0.0386, Val Acc: 98.0000\n",
      "Epoch 28/100, Tr Loss: 0.0445, Tr Acc: 98.0000, Val Loss: 0.0340, Val Acc: 98.0000\n",
      "Epoch 29/100, Tr Loss: 0.0451, Tr Acc: 98.0000, Val Loss: 0.0381, Val Acc: 98.0000\n",
      "Epoch 30/100, Tr Loss: 0.0444, Tr Acc: 98.0000, Val Loss: 0.0369, Val Acc: 98.0000\n",
      "Epoch 31/100, Tr Loss: 0.0427, Tr Acc: 98.0000, Val Loss: 0.0377, Val Acc: 98.0000\n",
      "Epoch 32/100, Tr Loss: 0.0433, Tr Acc: 98.0000, Val Loss: 0.0369, Val Acc: 98.0000\n",
      "Epoch 33/100, Tr Loss: 0.0391, Tr Acc: 98.0000, Val Loss: 0.0344, Val Acc: 98.0000\n",
      "Epoch 34/100, Tr Loss: 0.0406, Tr Acc: 98.0000, Val Loss: 0.0350, Val Acc: 98.0000\n",
      "Epoch 35/100, Tr Loss: 0.0383, Tr Acc: 98.0000, Val Loss: 0.0354, Val Acc: 98.0000\n",
      "Epoch 36/100, Tr Loss: 0.0397, Tr Acc: 98.0000, Val Loss: 0.0326, Val Acc: 98.0000\n",
      "Epoch 37/100, Tr Loss: 0.0378, Tr Acc: 98.0000, Val Loss: 0.0401, Val Acc: 98.0000\n",
      "Epoch 38/100, Tr Loss: 0.0376, Tr Acc: 98.0000, Val Loss: 0.0352, Val Acc: 98.0000\n",
      "Epoch 39/100, Tr Loss: 0.0364, Tr Acc: 98.0000, Val Loss: 0.0337, Val Acc: 98.0000\n",
      "Epoch 40/100, Tr Loss: 0.0354, Tr Acc: 98.0000, Val Loss: 0.0330, Val Acc: 98.0000\n",
      "Epoch 41/100, Tr Loss: 0.0352, Tr Acc: 98.0000, Val Loss: 0.0320, Val Acc: 98.0000\n",
      "Epoch 42/100, Tr Loss: 0.0344, Tr Acc: 98.0000, Val Loss: 0.0326, Val Acc: 98.0000\n",
      "Epoch 43/100, Tr Loss: 0.0330, Tr Acc: 98.0000, Val Loss: 0.0319, Val Acc: 99.0000\n",
      "Epoch 44/100, Tr Loss: 0.0312, Tr Acc: 98.0000, Val Loss: 0.0343, Val Acc: 98.0000\n",
      "Epoch 45/100, Tr Loss: 0.0333, Tr Acc: 98.0000, Val Loss: 0.0332, Val Acc: 98.0000\n",
      "Epoch 46/100, Tr Loss: 0.0299, Tr Acc: 99.0000, Val Loss: 0.0346, Val Acc: 98.0000\n",
      "Epoch 47/100, Tr Loss: 0.0300, Tr Acc: 99.0000, Val Loss: 0.0297, Val Acc: 98.0000\n",
      "Epoch 48/100, Tr Loss: 0.0312, Tr Acc: 99.0000, Val Loss: 0.0307, Val Acc: 98.0000\n",
      "Epoch 49/100, Tr Loss: 0.0298, Tr Acc: 99.0000, Val Loss: 0.0306, Val Acc: 98.0000\n",
      "Epoch 50/100, Tr Loss: 0.0287, Tr Acc: 99.0000, Val Loss: 0.0317, Val Acc: 99.0000\n",
      "Epoch 51/100, Tr Loss: 0.0286, Tr Acc: 99.0000, Val Loss: 0.0306, Val Acc: 98.0000\n",
      "Epoch 52/100, Tr Loss: 0.0295, Tr Acc: 99.0000, Val Loss: 0.0294, Val Acc: 99.0000\n",
      "Epoch 53/100, Tr Loss: 0.0294, Tr Acc: 99.0000, Val Loss: 0.0301, Val Acc: 99.0000\n",
      "Epoch 54/100, Tr Loss: 0.0290, Tr Acc: 99.0000, Val Loss: 0.0312, Val Acc: 98.0000\n",
      "Epoch 55/100, Tr Loss: 0.0267, Tr Acc: 99.0000, Val Loss: 0.0325, Val Acc: 98.0000\n",
      "Epoch 56/100, Tr Loss: 0.0274, Tr Acc: 99.0000, Val Loss: 0.0324, Val Acc: 98.0000\n",
      "Epoch 57/100, Tr Loss: 0.0257, Tr Acc: 99.0000, Val Loss: 0.0304, Val Acc: 99.0000\n",
      "Epoch 58/100, Tr Loss: 0.0268, Tr Acc: 99.0000, Val Loss: 0.0282, Val Acc: 99.0000\n",
      "Epoch 59/100, Tr Loss: 0.0261, Tr Acc: 99.0000, Val Loss: 0.0307, Val Acc: 98.0000\n",
      "Epoch 60/100, Tr Loss: 0.0253, Tr Acc: 99.0000, Val Loss: 0.0317, Val Acc: 99.0000\n",
      "Epoch 61/100, Tr Loss: 0.0252, Tr Acc: 99.0000, Val Loss: 0.0306, Val Acc: 99.0000\n",
      "Epoch 62/100, Tr Loss: 0.0250, Tr Acc: 99.0000, Val Loss: 0.0309, Val Acc: 99.0000\n",
      "Epoch 63/100, Tr Loss: 0.0247, Tr Acc: 99.0000, Val Loss: 0.0305, Val Acc: 99.0000\n",
      "Epoch 64/100, Tr Loss: 0.0234, Tr Acc: 99.0000, Val Loss: 0.0295, Val Acc: 99.0000\n",
      "Epoch 65/100, Tr Loss: 0.0237, Tr Acc: 99.0000, Val Loss: 0.0308, Val Acc: 99.0000\n",
      "Epoch 66/100, Tr Loss: 0.0232, Tr Acc: 99.0000, Val Loss: 0.0302, Val Acc: 99.0000\n",
      "Epoch 67/100, Tr Loss: 0.0230, Tr Acc: 99.0000, Val Loss: 0.0294, Val Acc: 99.0000\n",
      "Epoch 68/100, Tr Loss: 0.0250, Tr Acc: 99.0000, Val Loss: 0.0321, Val Acc: 98.0000\n",
      "Epoch 69/100, Tr Loss: 0.0228, Tr Acc: 99.0000, Val Loss: 0.0291, Val Acc: 99.0000\n",
      "Epoch 70/100, Tr Loss: 0.0229, Tr Acc: 99.0000, Val Loss: 0.0325, Val Acc: 99.0000\n",
      "Epoch 71/100, Tr Loss: 0.0214, Tr Acc: 99.0000, Val Loss: 0.0310, Val Acc: 98.0000\n",
      "Epoch 72/100, Tr Loss: 0.0221, Tr Acc: 99.0000, Val Loss: 0.0312, Val Acc: 99.0000\n",
      "Epoch 73/100, Tr Loss: 0.0226, Tr Acc: 99.0000, Val Loss: 0.0308, Val Acc: 99.0000\n",
      "Epoch 74/100, Tr Loss: 0.0201, Tr Acc: 99.0000, Val Loss: 0.0282, Val Acc: 99.0000\n",
      "Epoch 75/100, Tr Loss: 0.0217, Tr Acc: 99.0000, Val Loss: 0.0282, Val Acc: 99.0000\n",
      "Epoch 76/100, Tr Loss: 0.0191, Tr Acc: 99.0000, Val Loss: 0.0301, Val Acc: 99.0000\n",
      "Epoch 77/100, Tr Loss: 0.0183, Tr Acc: 99.0000, Val Loss: 0.0298, Val Acc: 99.0000\n",
      "Epoch 78/100, Tr Loss: 0.0184, Tr Acc: 99.0000, Val Loss: 0.0271, Val Acc: 99.0000\n",
      "Epoch 79/100, Tr Loss: 0.0197, Tr Acc: 99.0000, Val Loss: 0.0312, Val Acc: 99.0000\n",
      "Epoch 80/100, Tr Loss: 0.0192, Tr Acc: 99.0000, Val Loss: 0.0311, Val Acc: 99.0000\n",
      "Epoch 81/100, Tr Loss: 0.0197, Tr Acc: 99.0000, Val Loss: 0.0290, Val Acc: 99.0000\n",
      "Epoch 82/100, Tr Loss: 0.0191, Tr Acc: 99.0000, Val Loss: 0.0284, Val Acc: 99.0000\n",
      "Epoch 83/100, Tr Loss: 0.0186, Tr Acc: 99.0000, Val Loss: 0.0319, Val Acc: 99.0000\n",
      "Epoch 84/100, Tr Loss: 0.0190, Tr Acc: 99.0000, Val Loss: 0.0286, Val Acc: 99.0000\n",
      "Epoch 85/100, Tr Loss: 0.0186, Tr Acc: 99.0000, Val Loss: 0.0308, Val Acc: 99.0000\n",
      "Epoch 86/100, Tr Loss: 0.0180, Tr Acc: 99.0000, Val Loss: 0.0287, Val Acc: 99.0000\n",
      "Epoch 87/100, Tr Loss: 0.0184, Tr Acc: 99.0000, Val Loss: 0.0294, Val Acc: 99.0000\n",
      "Epoch 88/100, Tr Loss: 0.0177, Tr Acc: 99.0000, Val Loss: 0.0305, Val Acc: 99.0000\n",
      "Epoch 89/100, Tr Loss: 0.0182, Tr Acc: 99.0000, Val Loss: 0.0289, Val Acc: 99.0000\n",
      "Epoch 90/100, Tr Loss: 0.0174, Tr Acc: 99.0000, Val Loss: 0.0297, Val Acc: 99.0000\n",
      "Epoch 91/100, Tr Loss: 0.0179, Tr Acc: 99.0000, Val Loss: 0.0279, Val Acc: 99.0000\n",
      "Epoch 92/100, Tr Loss: 0.0165, Tr Acc: 99.0000, Val Loss: 0.0333, Val Acc: 99.0000\n",
      "Epoch 93/100, Tr Loss: 0.0165, Tr Acc: 99.0000, Val Loss: 0.0323, Val Acc: 99.0000\n",
      "Epoch 94/100, Tr Loss: 0.0169, Tr Acc: 99.0000, Val Loss: 0.0297, Val Acc: 99.0000\n",
      "Epoch 95/100, Tr Loss: 0.0164, Tr Acc: 99.0000, Val Loss: 0.0296, Val Acc: 99.0000\n",
      "Epoch 96/100, Tr Loss: 0.0159, Tr Acc: 99.0000, Val Loss: 0.0280, Val Acc: 99.0000\n",
      "Epoch 97/100, Tr Loss: 0.0161, Tr Acc: 99.0000, Val Loss: 0.0292, Val Acc: 99.0000\n",
      "Epoch 98/100, Tr Loss: 0.0160, Tr Acc: 99.0000, Val Loss: 0.0288, Val Acc: 99.0000\n",
      "Epoch 99/100, Tr Loss: 0.0164, Tr Acc: 99.0000, Val Loss: 0.0294, Val Acc: 99.0000\n",
      "Epoch 100/100, Tr Loss: 0.0151, Tr Acc: 99.0000, Val Loss: 0.0284, Val Acc: 99.0000\n"
     ]
    }
   ],
   "source": [
    "num_epochs = 100\n",
    "\n",
    "train_loss = []\n",
    "valid_loss = []\n",
    "train_accuracy = []\n",
    "valid_accuracy = []\n",
    "\n",
    "for epoch in range(num_epochs):\n",
    "    \n",
    "    ############################\n",
    "    # Train\n",
    "    ############################\n",
    "    \n",
    "    iter_loss = 0.0\n",
    "    correct = 0\n",
    "    iterations = 0\n",
    "    \n",
    "    net.train()                   # Put the network into training mode\n",
    "    \n",
    "    for i, (items, classes) in enumerate(mnist_train_loader):\n",
    "        \n",
    "        # Convert torch tensor to Variable\n",
    "        items = Variable(items)\n",
    "        classes = Variable(classes)\n",
    "        \n",
    "        # If we have GPU, shift the data to GPU\n",
    "        \n",
    "        items = items.cuda()\n",
    "        classes = classes.cuda()\n",
    "        \n",
    "        optimizer.zero_grad()     # Clear off the gradients from any past operation\n",
    "        outputs = net(items)      # Do the forward pass\n",
    "        loss = criterion(outputs, classes).cuda() # Calculate the loss\n",
    "        iter_loss += loss.data[0].cuda() # Accumulate the loss\n",
    "        loss.backward()           # Calculate the gradients with help of back propagation\n",
    "        optimizer.step()          # Ask the optimizer to adjust the parameters based on the gradients\n",
    "        \n",
    "        # Record the correct predictions for training data \n",
    "        _, predicted = torch.max(outputs.data, 1)\n",
    "        correct += (predicted == classes.data.cuda()).sum()\n",
    "        iterations += 1\n",
    "    \n",
    "    # Record the training loss\n",
    "    train_loss.append(iter_loss/iterations)\n",
    "    # Record the training accuracy\n",
    "    train_accuracy.append((100 * correct / len(mnist_train_loader.dataset)))\n",
    "   \n",
    "\n",
    "    ############################\n",
    "    # Validate - How did we do on the unseen dataset?\n",
    "    ############################\n",
    "    \n",
    "    loss = 0.0\n",
    "    correct = 0\n",
    "    iterations = 0\n",
    "\n",
    "    net.eval()                    # Put the network into evaluate mode\n",
    "    \n",
    "    for i, (items, classes) in enumerate(mnist_valid_loader):\n",
    "        \n",
    "        # Convert torch tensor to Variable\n",
    "        items = Variable(items)\n",
    "        classes = Variable(classes)\n",
    "        \n",
    "        # If we have GPU, shift the data to GPU\n",
    "        \n",
    "        items = items.cuda()\n",
    "        classes = classes.cuda()\n",
    "        \n",
    "        outputs = net(items).cuda()      # Do the forward pass\n",
    "        loss += criterion(outputs, classes).data[0].cuda() # Calculate the loss\n",
    "        \n",
    "        # Record the correct predictions for training data\n",
    "        _, predicted = torch.max(outputs.data, 1)\n",
    "        correct += (predicted == classes.data.cuda()).sum()\n",
    "        \n",
    "        iterations += 1\n",
    "\n",
    "    # Record the validation loss\n",
    "    valid_loss.append(loss/iterations)\n",
    "    # Record the validation accuracy\n",
    "    valid_accuracy.append((100 * correct / len(mnist_valid_loader.dataset)))\n",
    "\n",
    "    \n",
    "    print ('Epoch %d/%d, Tr Loss: %.4f, Tr Acc: %.4f, Val Loss: %.4f, Val Acc: %.4f'\n",
    "           %(epoch+1, num_epochs, train_loss[-1], train_accuracy[-1], \n",
    "             valid_loss[-1], valid_accuracy[-1]))"
   ]
  },
  {
   "cell_type": "markdown",
   "metadata": {},
   "source": [
    "### Saving the model"
   ]
  },
  {
   "cell_type": "code",
   "execution_count": 17,
   "metadata": {},
   "outputs": [],
   "source": [
    "torch.save(net.state_dict(), \"./mnist.model.pth\")"
   ]
  },
  {
   "cell_type": "markdown",
   "metadata": {},
   "source": [
    "### Loss"
   ]
  },
  {
   "cell_type": "code",
   "execution_count": 18,
   "metadata": {},
   "outputs": [
    {
     "data": {
      "image/png": "[encoded data removed]",
      "text/plain": [
       "<Figure size 720x576 with 1 Axes>"
      ]
     },
     "metadata": {},
     "output_type": "display_data"
    }
   ],
   "source": [
    "\n",
    "f = plt.figure(figsize=(10, 8))\n",
    "plt.plot(train_loss, label='training loss')\n",
    "plt.plot(valid_loss, label='validation loss')\n",
    "plt.legend()\n",
    "plt.show()"
   ]
  },
  {
   "cell_type": "markdown",
   "metadata": {},
   "source": [
    "### Acuracy"
   ]
  },
  {
   "cell_type": "code",
   "execution_count": 19,
   "metadata": {},
   "outputs": [
    {
     "data": {
      "image/png": "[encoded data removed]",
      "text/plain": [
       "<Figure size 720x576 with 1 Axes>"
      ]
     },
     "metadata": {},
     "output_type": "display_data"
    }
   ],
   "source": [
    "\n",
    "f = plt.figure(figsize=(10, 8))\n",
    "plt.plot(train_accuracy, label='training accuracy')\n",
    "plt.plot(valid_accuracy, label='validation accuracy')\n",
    "plt.legend()\n",
    "plt.show()"
   ]
  },
  {
   "cell_type": "markdown",
   "metadata": {},
   "source": [
    "### Testing from Validation Set"
   ]
  },
  {
   "cell_type": "code",
   "execution_count": 42,
   "metadata": {},
   "outputs": [
    {
     "name": "stdout",
     "output_type": "stream",
     "text": [
      "tensor(7)\n"
     ]
    },
    {
     "data": {
      "image/png": "[encoded data removed]",
      "text/plain": [
       "<Figure size 432x288 with 1 Axes>"
      ]
     },
     "metadata": {},
     "output_type": "display_data"
    }
   ],
   "source": [
    "image_index = 9000    # just a random number from Validaion Set\n",
    "img = mnist_valid[image_index][0].resize_((1, 1, 28, 28))   \n",
    "plt.imshow(img.reshape(28, 28), cmap='gray')\n",
    "img = Variable(img)\n",
    "label = mnist_valid[image_index][1]\n",
    "\n",
    "\n",
    "net.eval()\n",
    "\n",
    "if cuda.is_available():\n",
    "    net = net.cuda()\n",
    "    img = img.cuda()\n",
    "else:\n",
    "    net = net.cpu()\n",
    "    img = img.cpu()\n",
    "    \n",
    "output = net(img)"
   ]
  },
  {
   "cell_type": "code",
   "execution_count": 37,
   "metadata": {},
   "outputs": [
    {
     "name": "stdout",
     "output_type": "stream",
     "text": [
      "Prediction is:  tensor([7], device='cuda:0')\n"
     ]
    }
   ],
   "source": [
    "_, predicted = torch.max(output.data, 1)\n",
    "print(\"Prediction is: \", predicted)"
   ]
  },
  {
   "cell_type": "code",
   "execution_count": 38,
   "metadata": {},
   "outputs": [
    {
     "name": "stdout",
     "output_type": "stream",
     "text": [
      "Actual is is:  tensor(7)\n"
     ]
    }
   ],
   "source": [
    "print(\"Actual is is: \", label)"
   ]
  },
  {
   "cell_type": "code",
   "execution_count": null,
   "metadata": {},
   "outputs": [],
   "source": []
  }
 ],
 "metadata": {
  "kernelspec": {
   "display_name": "Python 3",
   "language": "python",
   "name": "python3"
  },
  "language_info": {
   "codemirror_mode": {
    "name": "ipython",
    "version": 3
   },
   "file_extension": ".py",
   "mimetype": "text/x-python",
   "name": "python",
   "nbconvert_exporter": "python",
   "pygments_lexer": "ipython3",
   "version": "3.6.5"
  }
 },
 "nbformat": 4,
 "nbformat_minor": 2
}
